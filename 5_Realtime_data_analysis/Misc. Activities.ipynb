{
 "cells": [
  {
   "cell_type": "markdown",
   "id": "affected-advertising",
   "metadata": {},
   "source": [
    "# Misc. Activities in PySpark\n",
    "To follow along with: https://realpython.com/pyspark-intro/"
   ]
  },
  {
   "cell_type": "code",
   "execution_count": 1,
   "id": "resident-hearts",
   "metadata": {},
   "outputs": [
    {
     "name": "stdout",
     "output_type": "stream",
     "text": [
      "Sorted: ['awesome!', 'is', 'programming', 'Python']\n",
      "Filter: ['Python', 'is']\n",
      "Mapped: ['PYTHON', 'PROGRAMMING', 'IS', 'AWESOME!']\n",
      "Reduce: Pythonprogrammingisawesome!\n"
     ]
    }
   ],
   "source": [
    "# Filter, Map and Reduce are some main \"Functional tools\" in Python.\n",
    "# These concepts are really important before moving into PySpark.\n",
    "\n",
    "from functools import reduce\n",
    "x = ['Python', 'programming', 'is', 'awesome!']\n",
    "\n",
    "print('Sorted:', sorted(x, key=lambda arg: arg.lower()))\n",
    "print('Filter:', list(filter(lambda arg: len(arg) < 8, x)))\n",
    "print('Mapped:', list(map(lambda arg: arg.upper(), x)))\n",
    "print('Reduce:', reduce(lambda val1, val2: val1 + val2, x))\n",
    "\n",
    "# Note that Filter and Map are more efficient alternatives to iterating thru a for loop and appending.\n",
    "# Also note: The 1st 3 return new iterables. Reduce, however, returns 1 reduced value."
   ]
  },
  {
   "cell_type": "code",
   "execution_count": 19,
   "id": "experimental-appeal",
   "metadata": {},
   "outputs": [
    {
     "name": "stdout",
     "output_type": "stream",
     "text": [
      "7735\n",
      "93\n"
     ]
    }
   ],
   "source": [
    "# Reading in a csv (from my court cases project)\n",
    "# And doing some basic operations with it\n",
    "\n",
    "import findspark\n",
    "findspark.init() # Need to use this to find the pyspark library before importing\n",
    "\n",
    "import pyspark\n",
    "\n",
    "sc = pyspark.SparkContext.getOrCreate('local[*]')\n",
    "# A note on this ^. 'Local' tells Spark we're on a single local machine.\n",
    "# * tells Spark to create as many worker threads as logical cores on the machine.\n",
    "\n",
    "txt = sc.textFile('cases.csv')\n",
    "print(txt.count())\n",
    "\n",
    "python_lines = txt.filter(lambda line: 'william' in line.lower())\n",
    "print(python_lines.count())"
   ]
  },
  {
   "cell_type": "code",
   "execution_count": 23,
   "id": "voluntary-mouse",
   "metadata": {},
   "outputs": [
    {
     "data": {
      "text/plain": [
       "[1, 3, 5, 7, 9]"
      ]
     },
     "execution_count": 23,
     "metadata": {},
     "output_type": "execute_result"
    }
   ],
   "source": [
    "# The RDD command distributes the dataset into 2 partitions\n",
    "# Also note that we're using .filter here, but it's an RDD method (still used the same way tho)\n",
    "# Take returns a subset, a bit like pd.head()\n",
    "big_list = range(10000)\n",
    "rdd = sc.parallelize(big_list, 2)\n",
    "odds = rdd.filter(lambda x: x % 2 != 0)\n",
    "odds.take(5)"
   ]
  },
  {
   "cell_type": "code",
   "execution_count": null,
   "id": "committed-columbia",
   "metadata": {},
   "outputs": [],
   "source": []
  }
 ],
 "metadata": {
  "kernelspec": {
   "display_name": "Python 3",
   "language": "python",
   "name": "python3"
  },
  "language_info": {
   "codemirror_mode": {
    "name": "ipython",
    "version": 3
   },
   "file_extension": ".py",
   "mimetype": "text/x-python",
   "name": "python",
   "nbconvert_exporter": "python",
   "pygments_lexer": "ipython3",
   "version": "3.7.4"
  }
 },
 "nbformat": 4,
 "nbformat_minor": 5
}
