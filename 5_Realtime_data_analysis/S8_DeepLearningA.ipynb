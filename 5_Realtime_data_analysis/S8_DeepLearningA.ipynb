{
 "cells": [
  {
   "cell_type": "code",
   "execution_count": 3,
   "metadata": {},
   "outputs": [],
   "source": [
    "def extracting_training_test_data(data_path):\n",
    "    from pandas import read_csv\n",
    "    \n",
    "    train_path= data_path+ \"S8_train.csv\"\n",
    "    test_path= data_path+ \"S8_test.csv\"\n",
    "    train= read_csv(train_path)\n",
    "    test= read_csv(test_path)\n",
    "    features= list(train.iloc[51695, :].values)\n",
    "    train= train.drop([51695], axis= 0)\n",
    "    train.columns= features\n",
    "    features.remove(\"target\")\n",
    "    test.columns= features\n",
    "    return(train, test)"
   ]
  },
  {
   "cell_type": "code",
   "execution_count": 4,
   "metadata": {},
   "outputs": [],
   "source": [
    "%%capture\n",
    "data_path= \"data/\"\n",
    "train, test= extracting_training_test_data(data_path)"
   ]
  },
  {
   "cell_type": "code",
   "execution_count": 5,
   "metadata": {},
   "outputs": [
    {
     "data": {
      "text/plain": [
       "array(['Class_2', 'Class_8', 'Class_6', 'Class_3', 'Class_7', 'Class_4',\n",
       "       'Class_5', 'Class_9', 'Class_1'], dtype=object)"
      ]
     },
     "execution_count": 5,
     "metadata": {},
     "output_type": "execute_result"
    }
   ],
   "source": [
    "train.iloc[:, -1].unique()"
   ]
  },
  {
   "cell_type": "code",
   "execution_count": 6,
   "metadata": {},
   "outputs": [
    {
     "data": {
      "text/plain": [
       "array([1, 7, 5, 2, 6, 3, 4, 8, 0])"
      ]
     },
     "execution_count": 6,
     "metadata": {},
     "output_type": "execute_result"
    }
   ],
   "source": [
    "# it's easy enough to encode the classes without an extra module\n",
    "train['target'] = [x[-1] for x in train['target']]\n",
    "train['target'] = train['target'].astype(int) - 1\n",
    "train.target.unique()"
   ]
  },
  {
   "cell_type": "code",
   "execution_count": 7,
   "metadata": {},
   "outputs": [],
   "source": [
    "from sklearn.model_selection import train_test_split\n",
    "# slice features and classes from df\n",
    "X = train.iloc[:, 1:94].values.astype(float)\n",
    "y = train.iloc[:, 94].values.astype(float)\n",
    "X_train, X_test, y_train, y_test = train_test_split(X, y, test_size = 0.2, random_state = 0)"
   ]
  },
  {
   "cell_type": "code",
   "execution_count": 8,
   "metadata": {},
   "outputs": [],
   "source": [
    "from sklearn.preprocessing import StandardScaler\n",
    "\n",
    "# scale features\n",
    "sc = StandardScaler()\n",
    "X = sc.fit_transform(X)\n",
    "X_train = sc.fit_transform(X_train)\n",
    "X_test = sc.fit_transform(X_test)"
   ]
  },
  {
   "cell_type": "code",
   "execution_count": 9,
   "metadata": {},
   "outputs": [],
   "source": [
    "from tensorflow.keras.models import Sequential\n",
    "from tensorflow.keras.layers import Dense\n",
    "\n",
    "def classifier():\n",
    "    classifier = Sequential()\n",
    "    classifier.add(Dense(units = 200, input_dim = 93))\n",
    "    classifier.add(Dense(units = 50))\n",
    "    classifier.add(Dense(units = 9, activation = 'softmax'))\n",
    "    classifier.compile(optimizer = 'sgd', \n",
    "                       loss = 'sparse_categorical_crossentropy', metrics = ['accuracy'])\n",
    "    return classifier"
   ]
  },
  {
   "cell_type": "code",
   "execution_count": 10,
   "metadata": {},
   "outputs": [
    {
     "name": "stdout",
     "output_type": "stream",
     "text": [
      "Epoch 1/10\n",
      "50/50 [==============================] - 1s 13ms/step - loss: 2.0470 - accuracy: 0.3611 - val_loss: 1.2583 - val_accuracy: 0.6345\n",
      "Epoch 2/10\n",
      "50/50 [==============================] - 0s 6ms/step - loss: 1.1773 - accuracy: 0.6499 - val_loss: 1.0194 - val_accuracy: 0.6836\n",
      "Epoch 3/10\n",
      "50/50 [==============================] - 0s 6ms/step - loss: 0.9845 - accuracy: 0.6933 - val_loss: 0.9258 - val_accuracy: 0.7045\n",
      "Epoch 4/10\n",
      "50/50 [==============================] - 0s 5ms/step - loss: 0.9098 - accuracy: 0.7058 - val_loss: 0.8750 - val_accuracy: 0.7140\n",
      "Epoch 5/10\n",
      "50/50 [==============================] - 0s 6ms/step - loss: 0.8508 - accuracy: 0.7191 - val_loss: 0.8425 - val_accuracy: 0.7191\n",
      "Epoch 6/10\n",
      "50/50 [==============================] - 0s 6ms/step - loss: 0.8265 - accuracy: 0.7188 - val_loss: 0.8191 - val_accuracy: 0.7223\n",
      "Epoch 7/10\n",
      "50/50 [==============================] - 0s 6ms/step - loss: 0.8091 - accuracy: 0.7240 - val_loss: 0.8011 - val_accuracy: 0.7258\n",
      "Epoch 8/10\n",
      "50/50 [==============================] - 0s 6ms/step - loss: 0.7874 - accuracy: 0.7282 - val_loss: 0.7868 - val_accuracy: 0.7285\n",
      "Epoch 9/10\n",
      "50/50 [==============================] - 0s 6ms/step - loss: 0.7738 - accuracy: 0.7315 - val_loss: 0.7749 - val_accuracy: 0.7302\n",
      "Epoch 10/10\n",
      "50/50 [==============================] - 0s 6ms/step - loss: 0.7622 - accuracy: 0.7334 - val_loss: 0.7646 - val_accuracy: 0.7326\n"
     ]
    }
   ],
   "source": [
    "classifier = classifier()\n",
    "history = classifier.fit(X_train, y_train, \n",
    "                         validation_data=(X_test,y_test), \n",
    "                         epochs=10, batch_size=1000)"
   ]
  },
  {
   "cell_type": "code",
   "execution_count": 13,
   "metadata": {},
   "outputs": [
    {
     "data": {
      "image/png": "[encoded data removed]",
      "text/plain": [
       "<Figure size 1152x432 with 2 Axes>"
      ]
     },
     "metadata": {},
     "output_type": "display_data"
    }
   ],
   "source": [
    "%matplotlib inline\n",
    "import matplotlib.pyplot as plt\n",
    "import seaborn as sns\n",
    "sns.set()\n",
    "\n",
    "def plots(acc, val_acc, loss, val_loss):\n",
    "    fig, (ax1, ax2) = plt.subplots(ncols=2, sharey=True)\n",
    "\n",
    "    # plot accuracy\n",
    "    ax1.plot(acc, label='Training')\n",
    "    if val_acc is not None:\n",
    "        ax1.plot(val_acc, label='Validation')\n",
    "\n",
    "    ax1.set_xlabel('Epoch')\n",
    "    ax1.set_title('Model Accuracy')\n",
    "    ax1.legend(loc='upper left')\n",
    "    ax1.set_ylim([0,1.2])\n",
    "\n",
    "    # plot loss\n",
    "    ax2.plot(loss, label='Training')\n",
    "    if val_loss is not None:\n",
    "        ax2.plot(val_loss, label='Validation')\n",
    "\n",
    "    ax2.set_xlabel('Epoch')\n",
    "    ax2.set_title('Model Loss')\n",
    "    ax2.legend(loc='upper right')\n",
    "    ax2.set_ylim([0,1.2])\n",
    "\n",
    "    sns.despine()\n",
    "    sns.set_style(\"white\")\n",
    "\n",
    "\n",
    "    plt.show()\n",
    "\n",
    "plt.rcParams[\"figure.figsize\"] = (16,6)\n",
    "plots(history.history[\"accuracy\"],history.history['val_accuracy'],\n",
    "      history.history[\"loss\"],history.history['val_loss'])"
   ]
  },
  {
   "cell_type": "code",
   "execution_count": 14,
   "metadata": {},
   "outputs": [
    {
     "name": "stdout",
     "output_type": "stream",
     "text": [
      "Epoch 1/10\n",
      "50/50 [==============================] - 1s 13ms/step - loss: 2.1339 - accuracy: 0.2946 - val_loss: 1.3016 - val_accuracy: 0.6227\n",
      "Epoch 2/10\n",
      "50/50 [==============================] - 0s 10ms/step - loss: 1.2287 - accuracy: 0.6475 - val_loss: 1.0585 - val_accuracy: 0.6811\n",
      "Epoch 3/10\n",
      "50/50 [==============================] - 0s 7ms/step - loss: 1.0321 - accuracy: 0.6926 - val_loss: 0.9619 - val_accuracy: 0.6980\n",
      "Epoch 4/10\n",
      "50/50 [==============================] - 0s 10ms/step - loss: 0.9486 - accuracy: 0.7065 - val_loss: 0.9079 - val_accuracy: 0.7075\n",
      "Epoch 5/10\n",
      "50/50 [==============================] - 0s 9ms/step - loss: 0.9062 - accuracy: 0.7100 - val_loss: 0.8725 - val_accuracy: 0.7126\n",
      "Epoch 6/10\n",
      "50/50 [==============================] - 1s 12ms/step - loss: 0.8655 - accuracy: 0.7176 - val_loss: 0.8472 - val_accuracy: 0.7155\n",
      "Epoch 7/10\n",
      "50/50 [==============================] - 0s 9ms/step - loss: 0.8385 - accuracy: 0.7223 - val_loss: 0.8280 - val_accuracy: 0.7177\n",
      "Epoch 8/10\n",
      "50/50 [==============================] - 0s 9ms/step - loss: 0.8262 - accuracy: 0.7201 - val_loss: 0.8127 - val_accuracy: 0.7217\n",
      "Epoch 9/10\n",
      "50/50 [==============================] - 1s 12ms/step - loss: 0.8048 - accuracy: 0.7268 - val_loss: 0.8002 - val_accuracy: 0.7237\n",
      "Epoch 10/10\n",
      "50/50 [==============================] - 0s 9ms/step - loss: 0.7902 - accuracy: 0.7280 - val_loss: 0.7896 - val_accuracy: 0.7263\n"
     ]
    }
   ],
   "source": [
    "from tensorflow.keras.models import Sequential\n",
    "from tensorflow.keras.layers import Dense, BatchNormalization\n",
    "\n",
    "def classifier():\n",
    "    classifier = Sequential()\n",
    "    classifier.add(Dense(units = 200, input_dim = 93))\n",
    "    classifier.add(BatchNormalization())\n",
    "    classifier.add(Dense(units = 50))\n",
    "    classifier.add(BatchNormalization())\n",
    "    classifier.add(Dense(units = 9, activation = 'softmax'))\n",
    "    classifier.compile(optimizer = 'sgd', \n",
    "                       loss = 'sparse_categorical_crossentropy', \n",
    "                       metrics = ['accuracy'])\n",
    "    return classifier\n",
    "\n",
    "classifier = classifier()\n",
    "history = classifier.fit(X_train, y_train, \n",
    "                         validation_data=(X_test,y_test), \n",
    "                         epochs=10, batch_size=1000)"
   ]
  },
  {
   "cell_type": "code",
   "execution_count": 15,
   "metadata": {},
   "outputs": [],
   "source": [
    "from tensorflow.keras.models import Sequential\n",
    "from tensorflow.keras.layers import Dense\n",
    "\n",
    "def classifier():\n",
    "    classifier = Sequential()\n",
    "    classifier.add(Dense(units = 200, kernel_initializer = 'uniform', \n",
    "                         activation = 'relu', input_dim = 93))\n",
    "    classifier.add(Dense(units = 50, kernel_initializer = 'uniform', \n",
    "                         activation = 'relu'))\n",
    "    classifier.add(Dense(units = 9, kernel_initializer = 'uniform', \n",
    "                         activation = 'softmax'))\n",
    "    classifier.compile(optimizer = 'rmsprop', \n",
    "                       loss = 'sparse_categorical_crossentropy', metrics = ['accuracy'])\n",
    "    return classifier"
   ]
  },
  {
   "cell_type": "code",
   "execution_count": 16,
   "metadata": {},
   "outputs": [
    {
     "name": "stdout",
     "output_type": "stream",
     "text": [
      "Epoch 1/10\n",
      "50/50 [==============================] - 1s 9ms/step - loss: 1.6823 - accuracy: 0.5483 - val_loss: 0.9041 - val_accuracy: 0.6812\n",
      "Epoch 2/10\n",
      "50/50 [==============================] - 0s 8ms/step - loss: 0.8288 - accuracy: 0.7067 - val_loss: 0.6910 - val_accuracy: 0.7408\n",
      "Epoch 3/10\n",
      "50/50 [==============================] - 0s 7ms/step - loss: 0.6732 - accuracy: 0.7475 - val_loss: 0.6400 - val_accuracy: 0.7529\n",
      "Epoch 4/10\n",
      "50/50 [==============================] - 0s 6ms/step - loss: 0.6349 - accuracy: 0.7592 - val_loss: 0.6109 - val_accuracy: 0.7610\n",
      "Epoch 5/10\n",
      "50/50 [==============================] - 0s 6ms/step - loss: 0.6054 - accuracy: 0.7679 - val_loss: 0.5941 - val_accuracy: 0.7689\n",
      "Epoch 6/10\n",
      "50/50 [==============================] - 0s 7ms/step - loss: 0.5801 - accuracy: 0.7715 - val_loss: 0.5853 - val_accuracy: 0.7730\n",
      "Epoch 7/10\n",
      "50/50 [==============================] - 0s 7ms/step - loss: 0.5702 - accuracy: 0.7774 - val_loss: 0.5836 - val_accuracy: 0.7689\n",
      "Epoch 8/10\n",
      "50/50 [==============================] - 0s 7ms/step - loss: 0.5532 - accuracy: 0.7828 - val_loss: 0.5769 - val_accuracy: 0.7724\n",
      "Epoch 9/10\n",
      "50/50 [==============================] - 0s 9ms/step - loss: 0.5397 - accuracy: 0.7861 - val_loss: 0.5614 - val_accuracy: 0.7827\n",
      "Epoch 10/10\n",
      "50/50 [==============================] - 0s 7ms/step - loss: 0.5322 - accuracy: 0.7909 - val_loss: 0.5529 - val_accuracy: 0.7819\n"
     ]
    }
   ],
   "source": [
    "classifier = classifier()\n",
    "history = classifier.fit(X_train, y_train, \n",
    "                         validation_data=(X_test,y_test), \n",
    "                         epochs=10, batch_size=1000)"
   ]
  },
  {
   "cell_type": "code",
   "execution_count": 21,
   "metadata": {},
   "outputs": [
    {
     "data": {
      "image/png": "[encoded data removed]",
      "text/plain": [
       "<Figure size 1152x432 with 2 Axes>"
      ]
     },
     "metadata": {
      "needs_background": "light"
     },
     "output_type": "display_data"
    }
   ],
   "source": [
    "%matplotlib inline\n",
    "import matplotlib.pyplot as plt\n",
    "import seaborn as sns\n",
    "\n",
    "def plots(acc, val_acc, loss, val_loss):\n",
    "    fig, (ax1, ax2) = plt.subplots(ncols=2, sharey=True)\n",
    "\n",
    "    # plot accuracy\n",
    "    ax1.plot(acc, label='Training')\n",
    "    if val_acc is not None:\n",
    "        ax1.plot(val_acc, label='Validation')\n",
    "\n",
    "    ax1.set_xlabel('Epoch')\n",
    "    ax1.set_title('Model Accuracy')\n",
    "    ax1.legend(loc='upper left')\n",
    "    ax1.set_ylim([0,1.2])\n",
    "\n",
    "    # plot loss\n",
    "    ax2.plot(loss, label='Training')\n",
    "    if val_loss is not None:\n",
    "        ax2.plot(val_loss, label='Validation')\n",
    "\n",
    "    ax2.set_xlabel('Epoch')\n",
    "    ax2.set_title('Model Loss')\n",
    "    ax2.legend(loc='upper right')\n",
    "    ax2.set_ylim([0,1.2])\n",
    "\n",
    "    sns.despine()\n",
    "    sns.set_style(\"white\")\n",
    "\n",
    "\n",
    "    plt.show()\n",
    "\n",
    "plt.rcParams[\"figure.figsize\"] = (16,6)\n",
    "plots(history.history[\"accuracy\"],history.history['val_accuracy'],\n",
    "      history.history[\"loss\"],history.history['val_loss'])\n",
    "sns.set()"
   ]
  },
  {
   "cell_type": "code",
   "execution_count": 22,
   "metadata": {},
   "outputs": [],
   "source": [
    "from tensorflow.keras.models import Sequential\n",
    "from tensorflow.keras.layers import Dense\n",
    "\n",
    "def classifier():\n",
    "    classifier = Sequential()\n",
    "    classifier.add(Dense(units = 200, kernel_initializer = 'uniform', activation = 'relu', input_dim = 93))\n",
    "    classifier.add(Dense(units = 175, kernel_initializer = 'uniform', activation = 'relu'))\n",
    "    classifier.add(Dense(units = 150, kernel_initializer = 'uniform', activation = 'relu'))\n",
    "    classifier.add(Dense(units = 75, kernel_initializer = 'uniform', activation = 'relu'))\n",
    "    classifier.add(Dense(units = 25, kernel_initializer = 'uniform', activation = 'relu'))\n",
    "    classifier.add(Dense(units = 9, kernel_initializer = 'uniform', activation = 'softmax'))\n",
    "    classifier.compile(optimizer = 'rmsprop', loss = 'sparse_categorical_crossentropy', metrics = ['accuracy'])\n",
    "    return classifier"
   ]
  },
  {
   "cell_type": "code",
   "execution_count": 23,
   "metadata": {},
   "outputs": [
    {
     "name": "stdout",
     "output_type": "stream",
     "text": [
      "Epoch 1/100\n",
      "50/50 [==============================] - 2s 18ms/step - loss: 1.7929 - accuracy: 0.3408 - val_loss: 1.1621 - val_accuracy: 0.4765\n",
      "Epoch 2/100\n",
      "50/50 [==============================] - 1s 11ms/step - loss: 1.0817 - accuracy: 0.5542 - val_loss: 0.8538 - val_accuracy: 0.6952\n",
      "Epoch 3/100\n",
      "50/50 [==============================] - 1s 12ms/step - loss: 0.8348 - accuracy: 0.6961 - val_loss: 0.7627 - val_accuracy: 0.7027\n",
      "Epoch 4/100\n",
      "50/50 [==============================] - 1s 12ms/step - loss: 0.7663 - accuracy: 0.7032 - val_loss: 0.7199 - val_accuracy: 0.7152\n",
      "Epoch 5/100\n",
      "50/50 [==============================] - 1s 12ms/step - loss: 0.7287 - accuracy: 0.7174 - val_loss: 0.7025 - val_accuracy: 0.7187\n",
      "Epoch 6/100\n",
      "50/50 [==============================] - 1s 12ms/step - loss: 0.6911 - accuracy: 0.7300 - val_loss: 0.6926 - val_accuracy: 0.7260\n",
      "Epoch 7/100\n",
      "50/50 [==============================] - 1s 15ms/step - loss: 0.6741 - accuracy: 0.7361 - val_loss: 0.7023 - val_accuracy: 0.7189\n",
      "Epoch 8/100\n",
      "50/50 [==============================] - 1s 13ms/step - loss: 0.6684 - accuracy: 0.7411 - val_loss: 0.6594 - val_accuracy: 0.7450\n",
      "Epoch 9/100\n",
      "50/50 [==============================] - 1s 13ms/step - loss: 0.6525 - accuracy: 0.7461 - val_loss: 0.6833 - val_accuracy: 0.7321\n",
      "Epoch 10/100\n",
      "50/50 [==============================] - 1s 13ms/step - loss: 0.6472 - accuracy: 0.7497 - val_loss: 0.6445 - val_accuracy: 0.7506\n",
      "Epoch 11/100\n",
      "50/50 [==============================] - 1s 13ms/step - loss: 0.6305 - accuracy: 0.7561 - val_loss: 0.6329 - val_accuracy: 0.7526\n",
      "Epoch 12/100\n",
      "50/50 [==============================] - 1s 12ms/step - loss: 0.6151 - accuracy: 0.7641 - val_loss: 0.6416 - val_accuracy: 0.7498\n",
      "Epoch 13/100\n",
      "50/50 [==============================] - 1s 12ms/step - loss: 0.6135 - accuracy: 0.7633 - val_loss: 0.6182 - val_accuracy: 0.7628\n",
      "Epoch 14/100\n",
      "50/50 [==============================] - 1s 14ms/step - loss: 0.6082 - accuracy: 0.7636 - val_loss: 0.6335 - val_accuracy: 0.7579\n",
      "Epoch 15/100\n",
      "50/50 [==============================] - 1s 11ms/step - loss: 0.5888 - accuracy: 0.7738 - val_loss: 0.6397 - val_accuracy: 0.7511\n"
     ]
    }
   ],
   "source": [
    "from keras.callbacks import EarlyStopping\n",
    "\n",
    "classifier_es = classifier()\n",
    "early_stop = EarlyStopping(monitor='val_loss',\n",
    "                              min_delta=0,\n",
    "                              patience=2,\n",
    "                              verbose=0, mode='auto')\n",
    "\n",
    "history_es = classifier_es.fit(X_train, y_train, validation_data=(X_test,y_test), \n",
    "                               epochs=100, batch_size=1000, callbacks=[early_stop])"
   ]
  },
  {
   "cell_type": "code",
   "execution_count": 24,
   "metadata": {},
   "outputs": [
    {
     "name": "stderr",
     "output_type": "stream",
     "text": [
      "/home/philipharman/.local/lib/python3.8/site-packages/tensorflow/python/keras/engine/sequential.py:450: UserWarning: `model.predict_classes()` is deprecated and will be removed after 2021-01-01. Please use instead:* `np.argmax(model.predict(x), axis=-1)`,   if your model does multi-class classification   (e.g. if it uses a `softmax` last-layer activation).* `(model.predict(x) > 0.5).astype(\"int32\")`,   if your model does binary classification   (e.g. if it uses a `sigmoid` last-layer activation).\n",
      "  warnings.warn('`model.predict_classes()` is deprecated and '\n",
      "/home/philipharman/.local/lib/python3.8/site-packages/tensorflow/python/keras/engine/sequential.py:450: UserWarning: `model.predict_classes()` is deprecated and will be removed after 2021-01-01. Please use instead:* `np.argmax(model.predict(x), axis=-1)`,   if your model does multi-class classification   (e.g. if it uses a `softmax` last-layer activation).* `(model.predict(x) > 0.5).astype(\"int32\")`,   if your model does binary classification   (e.g. if it uses a `sigmoid` last-layer activation).\n",
      "  warnings.warn('`model.predict_classes()` is deprecated and '\n",
      "/home/philipharman/.local/lib/python3.8/site-packages/tensorflow/python/keras/engine/sequential.py:450: UserWarning: `model.predict_classes()` is deprecated and will be removed after 2021-01-01. Please use instead:* `np.argmax(model.predict(x), axis=-1)`,   if your model does multi-class classification   (e.g. if it uses a `softmax` last-layer activation).* `(model.predict(x) > 0.5).astype(\"int32\")`,   if your model does binary classification   (e.g. if it uses a `sigmoid` last-layer activation).\n",
      "  warnings.warn('`model.predict_classes()` is deprecated and '\n",
      "/home/philipharman/.local/lib/python3.8/site-packages/tensorflow/python/keras/engine/sequential.py:450: UserWarning: `model.predict_classes()` is deprecated and will be removed after 2021-01-01. Please use instead:* `np.argmax(model.predict(x), axis=-1)`,   if your model does multi-class classification   (e.g. if it uses a `softmax` last-layer activation).* `(model.predict(x) > 0.5).astype(\"int32\")`,   if your model does binary classification   (e.g. if it uses a `sigmoid` last-layer activation).\n",
      "  warnings.warn('`model.predict_classes()` is deprecated and '\n"
     ]
    },
    {
     "name": "stdout",
     "output_type": "stream",
     "text": [
      "CPU times: user 34.8 s, sys: 1.04 s, total: 35.9 s\n",
      "Wall time: 17 s\n",
      "Accuracy: 72.64% (0.78%)\n"
     ]
    },
    {
     "name": "stderr",
     "output_type": "stream",
     "text": [
      "/home/philipharman/.local/lib/python3.8/site-packages/tensorflow/python/keras/engine/sequential.py:450: UserWarning: `model.predict_classes()` is deprecated and will be removed after 2021-01-01. Please use instead:* `np.argmax(model.predict(x), axis=-1)`,   if your model does multi-class classification   (e.g. if it uses a `softmax` last-layer activation).* `(model.predict(x) > 0.5).astype(\"int32\")`,   if your model does binary classification   (e.g. if it uses a `sigmoid` last-layer activation).\n",
      "  warnings.warn('`model.predict_classes()` is deprecated and '\n"
     ]
    }
   ],
   "source": [
    "from keras.wrappers.scikit_learn import KerasClassifier\n",
    "from sklearn.model_selection import KFold, cross_val_score\n",
    "\n",
    "# build estimator, making model compatible with sklearn modules\n",
    "estimator = KerasClassifier(build_fn=classifier, epochs=5, batch_size=1000, verbose=0)\n",
    "\n",
    "kfold = KFold(n_splits=5, shuffle=True, random_state=1)\n",
    "%time results = cross_val_score(estimator, X, y, cv=kfold, scoring='accuracy')\n",
    "print(\"Accuracy: %.2f%% (%.2f%%)\" % (results.mean()*100, results.std()*100))"
   ]
  },
  {
   "cell_type": "code",
   "execution_count": 25,
   "metadata": {},
   "outputs": [],
   "source": [
    "from tensorflow.keras.models import Sequential\n",
    "from tensorflow.keras.layers import Dense\n",
    "model = Sequential()\n",
    "model.add(Dense(3, input_shape=(3,), activation=\"relu\"))\n",
    "model.add(Dense(1))"
   ]
  },
  {
   "cell_type": "code",
   "execution_count": 26,
   "metadata": {},
   "outputs": [
    {
     "name": "stdout",
     "output_type": "stream",
     "text": [
      "Model: \"sequential_10\"\n",
      "_________________________________________________________________\n",
      "Layer (type)                 Output Shape              Param #   \n",
      "=================================================================\n",
      "dense_48 (Dense)             (None, 3)                 12        \n",
      "_________________________________________________________________\n",
      "dense_49 (Dense)             (None, 1)                 4         \n",
      "=================================================================\n",
      "Total params: 16\n",
      "Trainable params: 16\n",
      "Non-trainable params: 0\n",
      "_________________________________________________________________\n"
     ]
    }
   ],
   "source": [
    "model.summary()"
   ]
  },
  {
   "cell_type": "code",
   "execution_count": 27,
   "metadata": {},
   "outputs": [
    {
     "data": {
      "text/plain": [
       "16"
      ]
     },
     "execution_count": 27,
     "metadata": {},
     "output_type": "execute_result"
    }
   ],
   "source": [
    "model.count_params()"
   ]
  },
  {
   "cell_type": "code",
   "execution_count": null,
   "metadata": {},
   "outputs": [],
   "source": []
  }
 ],
 "metadata": {
  "kernelspec": {
   "display_name": "Python 3",
   "language": "python",
   "name": "python3"
  },
  "language_info": {
   "codemirror_mode": {
    "name": "ipython",
    "version": 3
   },
   "file_extension": ".py",
   "mimetype": "text/x-python",
   "name": "python",
   "nbconvert_exporter": "python",
   "pygments_lexer": "ipython3",
   "version": "3.8.5"
  }
 },
 "nbformat": 4,
 "nbformat_minor": 5
}
