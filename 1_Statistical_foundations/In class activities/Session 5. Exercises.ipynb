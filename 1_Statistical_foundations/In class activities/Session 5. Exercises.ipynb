{
 "cells": [
  {
   "cell_type": "code",
   "execution_count": 116,
   "metadata": {},
   "outputs": [],
   "source": [
    "import pandas as pd\n",
    "\n",
    "dfpopulation = pd.read_csv(\"2008.csv\")\n",
    "\n",
    "# Converting On-Time columns to binary (1 = True, i.e. yes on time)\n",
    "dfpopulation[\"DepartOnTime\"] = (dfpopulation.DepDelay < 0)*1\n",
    "dfpopulation[\"ArrivalOnTime\"] = (dfpopulation.ArrDelay < 0)*1\n",
    "\n",
    "df1 = dfpopulation.sample(frac = 0.00001) \n",
    "df2 = dfpopulation.sample(frac = 0.00001) "
   ]
  },
  {
   "cell_type": "markdown",
   "metadata": {},
   "source": [
    "Using one (or more) subsamples of the dataframe of flights, generate a meaningful example for each of the following tests and procedures:\n",
    "\n",
    "1. Chi-squared test\n",
    "2. T-test for independent samples\n",
    "3. T-test for paired data\n",
    "4. ANOVA (compare multiple means)\n",
    "5. Confidence interval for the mean\n",
    "6. Test if the data is normally distributed (one of the main assumptions, most of the times is not satisfied...)\n",
    "7. (EXTRA) What is bootstrap?!"
   ]
  },
  {
   "cell_type": "code",
   "execution_count": 63,
   "metadata": {
    "scrolled": true
   },
   "outputs": [
    {
     "data": {
      "text/plain": [
       "Index(['Year', 'Month', 'DayofMonth', 'DayOfWeek', 'DepTime', 'CRSDepTime',\n",
       "       'ArrTime', 'CRSArrTime', 'UniqueCarrier', 'FlightNum', 'TailNum',\n",
       "       'ActualElapsedTime', 'CRSElapsedTime', 'AirTime', 'ArrDelay',\n",
       "       'DepDelay', 'Origin', 'Dest', 'Distance', 'TaxiIn', 'TaxiOut',\n",
       "       'Cancelled', 'CancellationCode', 'Diverted', 'CarrierDelay',\n",
       "       'WeatherDelay', 'NASDelay', 'SecurityDelay', 'LateAircraftDelay',\n",
       "       'DepartOnTime', 'ArrivalOnTime'],\n",
       "      dtype='object')"
      ]
     },
     "execution_count": 63,
     "metadata": {},
     "output_type": "execute_result"
    }
   ],
   "source": [
    "df1.columns"
   ]
  },
  {
   "cell_type": "markdown",
   "metadata": {},
   "source": [
    "# Chi-squared test"
   ]
  },
  {
   "cell_type": "code",
   "execution_count": 68,
   "metadata": {},
   "outputs": [],
   "source": [
    "import scipy.stats as stats\n",
    "import numpy as np"
   ]
  },
  {
   "cell_type": "code",
   "execution_count": 130,
   "metadata": {},
   "outputs": [
    {
     "name": "stdout",
     "output_type": "stream",
     "text": [
      "H0: There is no significant difference between carriers' on-time arrival rates.\n",
      "H1: There is a significant difference between carriers' on-time arrival rates.\n",
      "Alpha: 0.05\n",
      "DOF: 1\n",
      "Critical value: 3.841458820694124\n",
      "Test statistic: 4.012760572005583\n",
      "With 95% confidence, there is significant evidence to reject H0. Therefore, accept H1.\n"
     ]
    }
   ],
   "source": [
    "# Example: On-time arrival rates\n",
    "# Suppose expected value for on-time arrival rates = population mean of on-time arrival rates\n",
    "# Is there a significant difference in on-time arrival rates between carriers when compared\n",
    "# to population mean on-time arrival?\n",
    "# (Assuming a=0.05 signficance)\n",
    "\n",
    "sample = df1.ArrivalOnTime.groupby(df1.UniqueCarrier).mean()\n",
    "expected = np.ones(len(sample))*dfpopulation.ArrivalOnTime.mean()\n",
    "\n",
    "alpha = 0.05\n",
    "dof = 2-1 # 2 outcomes: on time or not on time arrival\n",
    "\n",
    "critical_value = stats.chi2.ppf(1-alpha, df = dof)\n",
    "chisq, p = stats.chisquare(sample, f_exp = expected, ddof = dof)\n",
    "\n",
    "print(\"H0: There is no significant difference between carriers' on-time arrival rates.\")\n",
    "print(\"H1: There is a significant difference between carriers' on-time arrival rates.\")\n",
    "print(\"Alpha:\", alpha)\n",
    "print(\"DOF:\", dof)\n",
    "print(\"Critical value:\", critical_value)\n",
    "print(\"Test statistic:\", chisq)\n",
    "\n",
    "if chisq < critical_value:\n",
    "    print(\"With 95% confidence, there is not significant evidence to reject H0. Therefore, accept H0.\")\n",
    "elif chisq > critical_value:\n",
    "    print(\"With 95% confidence, there is significant evidence to reject H0. Therefore, accept H1.\")\n"
   ]
  },
  {
   "cell_type": "markdown",
   "metadata": {},
   "source": [
    "# T-test for independent samples"
   ]
  },
  {
   "cell_type": "code",
   "execution_count": null,
   "metadata": {},
   "outputs": [],
   "source": [
    "# Is there a significant difference between "
   ]
  },
  {
   "cell_type": "markdown",
   "metadata": {},
   "source": [
    "# Paired T-test"
   ]
  },
  {
   "cell_type": "code",
   "execution_count": 136,
   "metadata": {},
   "outputs": [
    {
     "data": {
      "text/html": [
       "<div>\n",
       "<style scoped>\n",
       "    .dataframe tbody tr th:only-of-type {\n",
       "        vertical-align: middle;\n",
       "    }\n",
       "\n",
       "    .dataframe tbody tr th {\n",
       "        vertical-align: top;\n",
       "    }\n",
       "\n",
       "    .dataframe thead th {\n",
       "        text-align: right;\n",
       "    }\n",
       "</style>\n",
       "<table border=\"1\" class=\"dataframe\">\n",
       "  <thead>\n",
       "    <tr style=\"text-align: right;\">\n",
       "      <th></th>\n",
       "      <th>DepartOnTime</th>\n",
       "      <th>ArrivalOnTime</th>\n",
       "      <th>Difference</th>\n",
       "    </tr>\n",
       "    <tr>\n",
       "      <th>UniqueCarrier</th>\n",
       "      <th></th>\n",
       "      <th></th>\n",
       "      <th></th>\n",
       "    </tr>\n",
       "  </thead>\n",
       "  <tbody>\n",
       "    <tr>\n",
       "      <td>AA</td>\n",
       "      <td>0.000000</td>\n",
       "      <td>0.333333</td>\n",
       "      <td>-0.333333</td>\n",
       "    </tr>\n",
       "    <tr>\n",
       "      <td>AS</td>\n",
       "      <td>0.000000</td>\n",
       "      <td>0.000000</td>\n",
       "      <td>0.000000</td>\n",
       "    </tr>\n",
       "    <tr>\n",
       "      <td>B6</td>\n",
       "      <td>1.000000</td>\n",
       "      <td>1.000000</td>\n",
       "      <td>0.000000</td>\n",
       "    </tr>\n",
       "    <tr>\n",
       "      <td>CO</td>\n",
       "      <td>0.666667</td>\n",
       "      <td>0.444444</td>\n",
       "      <td>0.222222</td>\n",
       "    </tr>\n",
       "    <tr>\n",
       "      <td>DL</td>\n",
       "      <td>0.500000</td>\n",
       "      <td>0.500000</td>\n",
       "      <td>0.000000</td>\n",
       "    </tr>\n",
       "    <tr>\n",
       "      <td>EV</td>\n",
       "      <td>0.000000</td>\n",
       "      <td>0.000000</td>\n",
       "      <td>0.000000</td>\n",
       "    </tr>\n",
       "    <tr>\n",
       "      <td>F9</td>\n",
       "      <td>0.000000</td>\n",
       "      <td>0.333333</td>\n",
       "      <td>-0.333333</td>\n",
       "    </tr>\n",
       "    <tr>\n",
       "      <td>FL</td>\n",
       "      <td>1.000000</td>\n",
       "      <td>1.000000</td>\n",
       "      <td>0.000000</td>\n",
       "    </tr>\n",
       "    <tr>\n",
       "      <td>HA</td>\n",
       "      <td>1.000000</td>\n",
       "      <td>1.000000</td>\n",
       "      <td>0.000000</td>\n",
       "    </tr>\n",
       "    <tr>\n",
       "      <td>MQ</td>\n",
       "      <td>0.333333</td>\n",
       "      <td>0.333333</td>\n",
       "      <td>0.000000</td>\n",
       "    </tr>\n",
       "    <tr>\n",
       "      <td>NW</td>\n",
       "      <td>0.666667</td>\n",
       "      <td>0.666667</td>\n",
       "      <td>0.000000</td>\n",
       "    </tr>\n",
       "    <tr>\n",
       "      <td>OH</td>\n",
       "      <td>0.000000</td>\n",
       "      <td>1.000000</td>\n",
       "      <td>-1.000000</td>\n",
       "    </tr>\n",
       "    <tr>\n",
       "      <td>OO</td>\n",
       "      <td>0.636364</td>\n",
       "      <td>0.545455</td>\n",
       "      <td>0.090909</td>\n",
       "    </tr>\n",
       "    <tr>\n",
       "      <td>UA</td>\n",
       "      <td>0.500000</td>\n",
       "      <td>0.666667</td>\n",
       "      <td>-0.166667</td>\n",
       "    </tr>\n",
       "    <tr>\n",
       "      <td>US</td>\n",
       "      <td>1.000000</td>\n",
       "      <td>1.000000</td>\n",
       "      <td>0.000000</td>\n",
       "    </tr>\n",
       "    <tr>\n",
       "      <td>WN</td>\n",
       "      <td>0.454545</td>\n",
       "      <td>0.545455</td>\n",
       "      <td>-0.090909</td>\n",
       "    </tr>\n",
       "    <tr>\n",
       "      <td>XE</td>\n",
       "      <td>0.500000</td>\n",
       "      <td>0.000000</td>\n",
       "      <td>0.500000</td>\n",
       "    </tr>\n",
       "    <tr>\n",
       "      <td>YV</td>\n",
       "      <td>0.500000</td>\n",
       "      <td>0.500000</td>\n",
       "      <td>0.000000</td>\n",
       "    </tr>\n",
       "  </tbody>\n",
       "</table>\n",
       "</div>"
      ],
      "text/plain": [
       "               DepartOnTime  ArrivalOnTime  Difference\n",
       "UniqueCarrier                                         \n",
       "AA                 0.000000       0.333333   -0.333333\n",
       "AS                 0.000000       0.000000    0.000000\n",
       "B6                 1.000000       1.000000    0.000000\n",
       "CO                 0.666667       0.444444    0.222222\n",
       "DL                 0.500000       0.500000    0.000000\n",
       "EV                 0.000000       0.000000    0.000000\n",
       "F9                 0.000000       0.333333   -0.333333\n",
       "FL                 1.000000       1.000000    0.000000\n",
       "HA                 1.000000       1.000000    0.000000\n",
       "MQ                 0.333333       0.333333    0.000000\n",
       "NW                 0.666667       0.666667    0.000000\n",
       "OH                 0.000000       1.000000   -1.000000\n",
       "OO                 0.636364       0.545455    0.090909\n",
       "UA                 0.500000       0.666667   -0.166667\n",
       "US                 1.000000       1.000000    0.000000\n",
       "WN                 0.454545       0.545455   -0.090909\n",
       "XE                 0.500000       0.000000    0.500000\n",
       "YV                 0.500000       0.500000    0.000000"
      ]
     },
     "execution_count": 136,
     "metadata": {},
     "output_type": "execute_result"
    }
   ],
   "source": [
    "# Is there a sig. diff. between on-time departure and on-time arrival rates for each carrier?\n",
    "\n",
    "sample = pd.DataFrame(df1.DepartOnTime.groupby(df1.UniqueCarrier).mean())\n",
    "sample[\"ArrivalOnTime\"] = df1.ArrivalOnTime.groupby(df1.UniqueCarrier).mean()\n",
    "sample[\"Difference\"] = sample.DepartOnTime - sample.ArrivalOnTime\n",
    "\n",
    "sample.head(50)"
   ]
  }
 ],
 "metadata": {
  "kernelspec": {
   "display_name": "Python 3",
   "language": "python",
   "name": "python3"
  },
  "language_info": {
   "codemirror_mode": {
    "name": "ipython",
    "version": 3
   },
   "file_extension": ".py",
   "mimetype": "text/x-python",
   "name": "python",
   "nbconvert_exporter": "python",
   "pygments_lexer": "ipython3",
   "version": "3.7.4"
  }
 },
 "nbformat": 4,
 "nbformat_minor": 2
}
